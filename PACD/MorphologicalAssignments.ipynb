{
 "cells": [
  {
   "cell_type": "markdown",
   "id": "db0315cb-1649-4dfb-8b4b-3eecdbca0475",
   "metadata": {},
   "source": [
    "# Morphological Assignments\n",
    "\n",
    "I Gede Teguh Satya Dharma\n",
    "\n",
    "__NIM__ 21/485591/PPA/06217"
   ]
  },
  {
   "cell_type": "code",
   "execution_count": 59,
   "id": "252beeba-b949-4a0c-a7b9-97d25c32ee64",
   "metadata": {},
   "outputs": [],
   "source": [
    "import numpy as np\n",
    "import matplotlib.pyplot as plt\n",
    "import math\n",
    "from copy import deepcopy\n",
    "import cv2"
   ]
  },
  {
   "cell_type": "markdown",
   "id": "735fbf8f-e558-4b1a-be0c-1b055827f9e1",
   "metadata": {},
   "source": [
    "# Structuring Elements"
   ]
  },
  {
   "cell_type": "code",
   "execution_count": 60,
   "id": "44af3b4c-49db-466a-aea3-c1a9934c2a26",
   "metadata": {},
   "outputs": [],
   "source": [
    "def generate_SE(se_type='rect', kernel_size=(5,5)):\n",
    "    se = np.ones((kernel_size[1], kernel_size[0]), dtype='uint8')\n",
    "    zeros_row = np.zeros(kernel_size[0], dtype='uint8')\n",
    "    mid_row_index = math.floor(kernel_size[0]/2)\n",
    "    zeros_row[mid_row_index] = 1\n",
    "    \n",
    "    if se_type == 'rect':\n",
    "        se = np.ones(kernel_size, dtype='uint8')\n",
    "        \n",
    "    elif se_type == 'cross':\n",
    "        mid_col_index = math.floor(kernel_size[1]/2)\n",
    "        for i in range(0, len(se)):\n",
    "            if i == mid_col_index:\n",
    "                continue\n",
    "            else:\n",
    "                se[i] = zeros_row\n",
    "                \n",
    "    elif se_type == 'ellipse':\n",
    "        for i in range(0, len(se)):\n",
    "            if i == 0 or i == len(se)-1:\n",
    "                se[i] = zeros_row\n",
    "            else:\n",
    "                se[i] = np.ones(kernel_size[0], dtype='uint8')\n",
    "    \n",
    "    elif se_type == 'horizontal':\n",
    "        mid_col_index = math.floor(kernel_size[1]/2)\n",
    "        for i in range(0, len(se)):\n",
    "            if i == mid_col_index:\n",
    "                continue\n",
    "            else:\n",
    "                se[i] = np.zeros(kernel_size[0], dtype='uint8')\n",
    "        \n",
    "        \n",
    "        \n",
    "    return se        "
   ]
  },
  {
   "cell_type": "markdown",
   "id": "1511abbb-2812-4654-ba8d-eda70659937c",
   "metadata": {},
   "source": [
    "# Morphological Operator"
   ]
  },
  {
   "cell_type": "code",
   "execution_count": 61,
   "id": "4ec5b29c-cd52-4497-bf1f-1323360c37d9",
   "metadata": {},
   "outputs": [],
   "source": [
    "def put_padding(img, se):\n",
    "    n_layers = int((se.shape[0]-1)/2)\n",
    "    padded = np.pad(img, (n_layers, n_layers), 'constant', constant_values=0)\n",
    "    return padded\n",
    "\n",
    "def dilate(img, se):\n",
    "    dilated = np.zeros_like(img, dtype='uint8')\n",
    "    padded_img = put_padding(img, se)    \n",
    "    for i in range(0, len(img)): # convolution\n",
    "        for j in range(0, len(img)):\n",
    "            kernel_window = padded_img[i:i+se.shape[0], j:j+se.shape[1]]\n",
    "            matches = np.logical_and(kernel_window, se)\n",
    "            if np.count_nonzero(matches) > 0:\n",
    "                dilated[i, j] = 1\n",
    "            else:\n",
    "                dilated[i, j] = 0\n",
    "    \n",
    "                \n",
    "    return dilated\n",
    "\n",
    "def erode(img, se):\n",
    "    eroded = np.zeros_like(img, dtype='uint8')\n",
    "    padded_img = put_padding(img, se)    \n",
    "    for i in range(0, len(img)): # convolution\n",
    "        for j in range(0, len(img)):\n",
    "            kernel_window = padded_img[i:i+se.shape[0], j:j+se.shape[0]]\n",
    "            matches = np.logical_and(kernel_window, se)\n",
    "            if np.count_nonzero(matches) == np.count_nonzero(se):\n",
    "                eroded[i, j] = 1\n",
    "            else:\n",
    "                eroded[i, j] = 0\n",
    "                \n",
    "    return eroded\n",
    "\n",
    "\n",
    "def opening(img, se):\n",
    "    eroded = erode(img, se)\n",
    "    opened = dilate(eroded, se)\n",
    "    return opened\n",
    "\n",
    "def closing(img, se):\n",
    "    dilated = dilate(img, se)\n",
    "    closed = erode(dilated, se)\n",
    "    return closed"
   ]
  },
  {
   "cell_type": "markdown",
   "id": "246a19aa-5c23-42ea-9d83-d678a32c51a7",
   "metadata": {},
   "source": [
    "# Uji dengan _Dummy Data_"
   ]
  },
  {
   "cell_type": "markdown",
   "id": "59f4fd02-8823-4b59-95b4-e1bbbfedca73",
   "metadata": {},
   "source": [
    "## Structuring Element (SE) Demo"
   ]
  },
  {
   "cell_type": "code",
   "execution_count": 62,
   "id": "82ede26c-868e-45ea-bdb8-997c791a3320",
   "metadata": {},
   "outputs": [],
   "source": [
    "rect_se = generate_SE('rect', (3,3))"
   ]
  },
  {
   "cell_type": "code",
   "execution_count": 63,
   "id": "34a662ab-1d1b-4755-96d2-1a78f269434c",
   "metadata": {},
   "outputs": [
    {
     "name": "stdout",
     "output_type": "stream",
     "text": [
      "[[1 1 1]\n",
      " [1 1 1]\n",
      " [1 1 1]]\n"
     ]
    }
   ],
   "source": [
    "print(rect_se)"
   ]
  },
  {
   "cell_type": "code",
   "execution_count": 64,
   "id": "10ff03c1-be4d-4267-95d3-839f37ee53b2",
   "metadata": {},
   "outputs": [],
   "source": [
    "cross_se = generate_SE('cross', (5,5))"
   ]
  },
  {
   "cell_type": "code",
   "execution_count": 65,
   "id": "10c015f8-0196-45a8-9a98-aa81463a898b",
   "metadata": {},
   "outputs": [
    {
     "name": "stdout",
     "output_type": "stream",
     "text": [
      "[[0 0 1 0 0]\n",
      " [0 0 1 0 0]\n",
      " [1 1 1 1 1]\n",
      " [0 0 1 0 0]\n",
      " [0 0 1 0 0]]\n"
     ]
    }
   ],
   "source": [
    "print(cross_se)"
   ]
  },
  {
   "cell_type": "code",
   "execution_count": 66,
   "id": "d29a48a2-a6bb-4561-a7ac-6a224ecb07ff",
   "metadata": {},
   "outputs": [],
   "source": [
    "ellipse_se = generate_SE('ellipse', (5,5))"
   ]
  },
  {
   "cell_type": "code",
   "execution_count": 67,
   "id": "f7e69854-ed73-4dc7-bf37-b45b082aac83",
   "metadata": {},
   "outputs": [
    {
     "name": "stdout",
     "output_type": "stream",
     "text": [
      "[[0 0 1 0 0]\n",
      " [1 1 1 1 1]\n",
      " [1 1 1 1 1]\n",
      " [1 1 1 1 1]\n",
      " [0 0 1 0 0]]\n"
     ]
    }
   ],
   "source": [
    "print(ellipse_se)"
   ]
  },
  {
   "cell_type": "code",
   "execution_count": 68,
   "id": "74593990-c47a-4e62-a486-796e4b6c6d61",
   "metadata": {},
   "outputs": [],
   "source": [
    "horizontal_se = generate_SE('horizontal', (5,5))"
   ]
  },
  {
   "cell_type": "code",
   "execution_count": 69,
   "id": "3a1b023a-8572-4c60-987a-036f21837216",
   "metadata": {},
   "outputs": [
    {
     "name": "stdout",
     "output_type": "stream",
     "text": [
      "[[0 0 0 0 0]\n",
      " [0 0 0 0 0]\n",
      " [1 1 1 1 1]\n",
      " [0 0 0 0 0]\n",
      " [0 0 0 0 0]]\n"
     ]
    }
   ],
   "source": [
    "print(horizontal_se)"
   ]
  },
  {
   "cell_type": "markdown",
   "id": "bd01c54c-e3dc-4433-9b69-f82eaaf19083",
   "metadata": {},
   "source": [
    "## Morphological Operations Demo"
   ]
  },
  {
   "cell_type": "code",
   "execution_count": 70,
   "id": "3c03d32b-a0be-4468-8ace-2a4b0d248759",
   "metadata": {},
   "outputs": [],
   "source": [
    "sample_image = np.array([\n",
    "    [0, 0, 0, 0, 0],\n",
    "    [0, 1, 1, 1, 0],\n",
    "    [0, 1, 1, 1, 0],\n",
    "    [0, 1, 1, 1, 0],\n",
    "    [0, 0, 0, 0, 0],\n",
    "], dtype='uint8')"
   ]
  },
  {
   "cell_type": "markdown",
   "id": "acae1dd6-9205-4322-8926-60db0c83055d",
   "metadata": {},
   "source": [
    "### Dilation"
   ]
  },
  {
   "cell_type": "code",
   "execution_count": 71,
   "id": "8abb2b28-ae43-4aa2-8099-d89e6e77575c",
   "metadata": {},
   "outputs": [],
   "source": [
    "smp_img = deepcopy(sample_image)"
   ]
  },
  {
   "cell_type": "code",
   "execution_count": 72,
   "id": "49ce48dd-eee6-48c8-af09-38532bd79fd0",
   "metadata": {},
   "outputs": [
    {
     "data": {
      "text/plain": [
       "<matplotlib.image.AxesImage at 0x7fb6b709fee0>"
      ]
     },
     "execution_count": 72,
     "metadata": {},
     "output_type": "execute_result"
    },
    {
     "data": {
      "image/png": "[encoded data removed]",
      "text/plain": [
       "<Figure size 640x480 with 1 Axes>"
      ]
     },
     "metadata": {},
     "output_type": "display_data"
    }
   ],
   "source": [
    "plt.imshow(smp_img, 'gray')"
   ]
  },
  {
   "cell_type": "code",
   "execution_count": 73,
   "id": "77ed0f5f-9831-4bc9-9c90-820d95b66aa9",
   "metadata": {},
   "outputs": [],
   "source": [
    "new_rect = generate_SE('rect', (3,3))"
   ]
  },
  {
   "cell_type": "code",
   "execution_count": 74,
   "id": "762e129a-987d-4066-994a-5440e41ee94d",
   "metadata": {},
   "outputs": [],
   "source": [
    "dilation = dilate(smp_img, rect_se)"
   ]
  },
  {
   "cell_type": "code",
   "execution_count": 75,
   "id": "669e4a5b-f208-45f2-86ac-a72d18cc3ea7",
   "metadata": {},
   "outputs": [
    {
     "data": {
      "text/plain": [
       "<matplotlib.image.AxesImage at 0x7fb6b7218760>"
      ]
     },
     "execution_count": 75,
     "metadata": {},
     "output_type": "execute_result"
    },
    {
     "data": {
      "image/png": "[encoded data removed]",
      "text/plain": [
       "<Figure size 640x480 with 1 Axes>"
      ]
     },
     "metadata": {},
     "output_type": "display_data"
    }
   ],
   "source": [
    "plt.imshow(dilation, 'gray', vmin=0, vmax=1)"
   ]
  },
  {
   "cell_type": "code",
   "execution_count": 76,
   "id": "15c5fef8-9e9e-4079-a6a4-ae7805c9b0e5",
   "metadata": {},
   "outputs": [
    {
     "data": {
      "text/plain": [
       "<matplotlib.image.AxesImage at 0x7fb6b729ed10>"
      ]
     },
     "execution_count": 76,
     "metadata": {},
     "output_type": "execute_result"
    },
    {
     "data": {
      "image/png": "[encoded data removed]",
      "text/plain": [
       "<Figure size 640x480 with 1 Axes>"
      ]
     },
     "metadata": {},
     "output_type": "display_data"
    }
   ],
   "source": [
    "smp_img = deepcopy(sample_image)\n",
    "plt.imshow(smp_img, 'gray', vmin=0, vmax=1)"
   ]
  },
  {
   "cell_type": "code",
   "execution_count": 77,
   "id": "89200037-d58a-4851-b8dd-48c8e48aa4d2",
   "metadata": {},
   "outputs": [],
   "source": [
    "new_hrzn = generate_SE('horizontal', (3,3))\n",
    "dilation_hrzn = dilate(smp_img, new_hrzn)"
   ]
  },
  {
   "cell_type": "code",
   "execution_count": 78,
   "id": "e725d69d-1575-4ff5-9c4b-78e907a70d88",
   "metadata": {},
   "outputs": [
    {
     "data": {
      "text/plain": [
       "<matplotlib.image.AxesImage at 0x7fb6b710e650>"
      ]
     },
     "execution_count": 78,
     "metadata": {},
     "output_type": "execute_result"
    },
    {
     "data": {
      "image/png": "[encoded data removed]",
      "text/plain": [
       "<Figure size 640x480 with 1 Axes>"
      ]
     },
     "metadata": {},
     "output_type": "display_data"
    }
   ],
   "source": [
    "plt.imshow(dilation_hrzn, 'gray', vmin=0, vmax=1)"
   ]
  },
  {
   "cell_type": "code",
   "execution_count": 79,
   "id": "adbd5bc2-da2e-4646-a8cf-a257090a4240",
   "metadata": {},
   "outputs": [],
   "source": [
    "smp_img = deepcopy(sample_image)\n",
    "new_cross = generate_SE('cross', (3,3))\n",
    "dilation_cross = dilate(smp_img, new_cross)"
   ]
  },
  {
   "cell_type": "code",
   "execution_count": 80,
   "id": "5e857e9e-36d4-44ce-baec-ad835389baa3",
   "metadata": {},
   "outputs": [
    {
     "data": {
      "text/plain": [
       "<matplotlib.image.AxesImage at 0x7fb6b7185cf0>"
      ]
     },
     "execution_count": 80,
     "metadata": {},
     "output_type": "execute_result"
    },
    {
     "data": {
      "image/png": "[encoded data removed]",
      "text/plain": [
       "<Figure size 640x480 with 1 Axes>"
      ]
     },
     "metadata": {},
     "output_type": "display_data"
    }
   ],
   "source": [
    "plt.imshow(dilation_cross, 'gray', vmin=0, vmax=1)"
   ]
  },
  {
   "cell_type": "markdown",
   "id": "1f4eaaf8-3a02-4fb3-adb0-c71b7e734f46",
   "metadata": {},
   "source": [
    "### Erosion"
   ]
  },
  {
   "cell_type": "code",
   "execution_count": 81,
   "id": "c61f5b1d-584f-42d7-b529-ea20367c004b",
   "metadata": {},
   "outputs": [],
   "source": [
    "smp_img = deepcopy(sample_image)"
   ]
  },
  {
   "cell_type": "code",
   "execution_count": 82,
   "id": "582a168d-e93d-41c9-ab58-ac1a0bad11dc",
   "metadata": {},
   "outputs": [],
   "source": [
    "erode_cross = generate_SE('cross', (3,3))"
   ]
  },
  {
   "cell_type": "code",
   "execution_count": 83,
   "id": "bacadfbb-b74e-4aa3-8f7d-c981ba795bbc",
   "metadata": {},
   "outputs": [],
   "source": [
    "eroded = erode(smp_img, erode_cross)"
   ]
  },
  {
   "cell_type": "code",
   "execution_count": 84,
   "id": "4c291680-0d16-4648-800f-226cdbfb7e91",
   "metadata": {},
   "outputs": [
    {
     "data": {
      "text/plain": [
       "<matplotlib.image.AxesImage at 0x7fb6b6f10280>"
      ]
     },
     "execution_count": 84,
     "metadata": {},
     "output_type": "execute_result"
    },
    {
     "data": {
      "image/png": "[encoded data removed]",
      "text/plain": [
       "<Figure size 640x480 with 1 Axes>"
      ]
     },
     "metadata": {},
     "output_type": "display_data"
    }
   ],
   "source": [
    "plt.imshow(eroded, 'gray', vmin=0, vmax=1)"
   ]
  },
  {
   "cell_type": "code",
   "execution_count": 85,
   "id": "d4a3d5fc-366b-40a2-a52d-fa7a52f02d6e",
   "metadata": {},
   "outputs": [],
   "source": [
    "smp_img = deepcopy(sample_image)\n",
    "erode_rect = generate_SE('horizontal', (3,3))\n",
    "eroded = erode(smp_img, erode_rect)"
   ]
  },
  {
   "cell_type": "code",
   "execution_count": 86,
   "id": "0ea89753-cdde-4e99-b1a3-729fd2ecbd20",
   "metadata": {},
   "outputs": [
    {
     "data": {
      "text/plain": [
       "<matplotlib.image.AxesImage at 0x7fb6b6f5e050>"
      ]
     },
     "execution_count": 86,
     "metadata": {},
     "output_type": "execute_result"
    },
    {
     "data": {
      "image/png": "[encoded data removed]",
      "text/plain": [
       "<Figure size 640x480 with 1 Axes>"
      ]
     },
     "metadata": {},
     "output_type": "display_data"
    }
   ],
   "source": [
    "plt.imshow(eroded, 'gray', vmin=0, vmax=1)"
   ]
  },
  {
   "cell_type": "markdown",
   "id": "90670e9c-b646-4250-94fb-74f4ff696485",
   "metadata": {},
   "source": [
    "### Opening"
   ]
  },
  {
   "cell_type": "code",
   "execution_count": 87,
   "id": "ec01de33-1269-41e1-9db7-dfe353e92684",
   "metadata": {},
   "outputs": [],
   "source": [
    "sample_image = np.array([\n",
    "    [1, 0, 0, 0, 1],\n",
    "    [1, 1, 1, 0, 1],\n",
    "    [1, 1, 1, 1, 0],\n",
    "    [1, 1, 1, 0, 0],\n",
    "    [0, 0, 0, 0, 1],\n",
    "], dtype='uint8')"
   ]
  },
  {
   "cell_type": "code",
   "execution_count": 88,
   "id": "e8ca90bb-c501-4bf8-b596-7f845fac5c89",
   "metadata": {},
   "outputs": [
    {
     "data": {
      "text/plain": [
       "<matplotlib.image.AxesImage at 0x7fb6b6de01f0>"
      ]
     },
     "execution_count": 88,
     "metadata": {},
     "output_type": "execute_result"
    },
    {
     "data": {
      "image/png": "[encoded data removed]",
      "text/plain": [
       "<Figure size 640x480 with 1 Axes>"
      ]
     },
     "metadata": {},
     "output_type": "display_data"
    }
   ],
   "source": [
    "plt.imshow(sample_image, 'gray')"
   ]
  },
  {
   "cell_type": "code",
   "execution_count": 89,
   "id": "0c3e9f2b-03d8-456f-ab82-9e567021438e",
   "metadata": {},
   "outputs": [],
   "source": [
    "smp_img = deepcopy(sample_image)\n",
    "rect_k = generate_SE('rect', (3,3))\n",
    "open_morph = opening(smp_img, rect_k)"
   ]
  },
  {
   "cell_type": "code",
   "execution_count": 90,
   "id": "525e096c-24f8-42ac-97bb-806b4bc13946",
   "metadata": {},
   "outputs": [
    {
     "data": {
      "text/plain": [
       "<matplotlib.image.AxesImage at 0x7fb6b6e3a020>"
      ]
     },
     "execution_count": 90,
     "metadata": {},
     "output_type": "execute_result"
    },
    {
     "data": {
      "image/png": "[encoded data removed]",
      "text/plain": [
       "<Figure size 640x480 with 1 Axes>"
      ]
     },
     "metadata": {},
     "output_type": "display_data"
    }
   ],
   "source": [
    "plt.imshow(open_morph, 'gray', vmin=0, vmax=1)"
   ]
  },
  {
   "cell_type": "markdown",
   "id": "28f3be45-fc06-41fa-87d4-099975c854e4",
   "metadata": {},
   "source": [
    "### Closing"
   ]
  },
  {
   "cell_type": "code",
   "execution_count": 91,
   "id": "afb9c877-af0d-45d7-adbc-a078a3c9d8e4",
   "metadata": {},
   "outputs": [],
   "source": [
    "sample_image = np.array([\n",
    "    [0, 0, 0, 0, 0],\n",
    "    [0, 1, 1, 1, 0],\n",
    "    [0, 1, 0, 1, 0],\n",
    "    [0, 1, 1, 1, 0],\n",
    "    [0, 0, 0, 0, 0],\n",
    "], dtype='uint8')"
   ]
  },
  {
   "cell_type": "code",
   "execution_count": 92,
   "id": "62f1e3af-78b8-4c3c-a604-3d8388dd7871",
   "metadata": {},
   "outputs": [
    {
     "data": {
      "text/plain": [
       "<matplotlib.image.AxesImage at 0x7fb6b6cc0250>"
      ]
     },
     "execution_count": 92,
     "metadata": {},
     "output_type": "execute_result"
    },
    {
     "data": {
      "image/png": "[encoded data removed]",
      "text/plain": [
       "<Figure size 640x480 with 1 Axes>"
      ]
     },
     "metadata": {},
     "output_type": "display_data"
    }
   ],
   "source": [
    "plt.imshow(sample_image, 'gray')"
   ]
  },
  {
   "cell_type": "code",
   "execution_count": 93,
   "id": "4d87bcc6-f09d-47db-8fdd-c96242dcae5a",
   "metadata": {},
   "outputs": [],
   "source": [
    "smp_img = deepcopy(sample_image)\n",
    "rect_k = generate_SE('rect', (3,3))\n",
    "open_morph = closing(smp_img, rect_k)"
   ]
  },
  {
   "cell_type": "code",
   "execution_count": 94,
   "id": "9b021069-6204-4287-abaf-f848e52f42ba",
   "metadata": {},
   "outputs": [
    {
     "data": {
      "text/plain": [
       "<matplotlib.image.AxesImage at 0x7fb6b6d15e10>"
      ]
     },
     "execution_count": 94,
     "metadata": {},
     "output_type": "execute_result"
    },
    {
     "data": {
      "image/png": "[encoded data removed]",
      "text/plain": [
       "<Figure size 640x480 with 1 Axes>"
      ]
     },
     "metadata": {},
     "output_type": "display_data"
    }
   ],
   "source": [
    "plt.imshow(open_morph, 'gray', vmin=0, vmax=1)"
   ]
  },
  {
   "cell_type": "markdown",
   "id": "096c1ce3-e4e7-45e9-8f87-b968b2ab5f2f",
   "metadata": {},
   "source": [
    "# Uji dengan Studi Kasus\n",
    "\n",
    "Studi kasus yang digunakan untuk menguji implementasi dari operasi morfologi adalah _post processing_ segmentasi huruf."
   ]
  },
  {
   "cell_type": "code",
   "execution_count": 95,
   "id": "c7260f9d-2781-4083-98c7-12161531dad5",
   "metadata": {},
   "outputs": [],
   "source": [
    "gray_img = cv2.imread('../PACD/assets/pacd512.png', 0)"
   ]
  },
  {
   "cell_type": "code",
   "execution_count": 96,
   "id": "8b4a2ade-5892-4a73-881b-2faa95e93780",
   "metadata": {},
   "outputs": [
    {
     "data": {
      "text/plain": [
       "<matplotlib.image.AxesImage at 0x7fb6b6d904c0>"
      ]
     },
     "execution_count": 96,
     "metadata": {},
     "output_type": "execute_result"
    },
    {
     "data": {
      "image/png": "[encoded data removed]",
      "text/plain": [
       "<Figure size 640x480 with 1 Axes>"
      ]
     },
     "metadata": {},
     "output_type": "display_data"
    }
   ],
   "source": [
    "plt.imshow(gray_img, 'gray')"
   ]
  },
  {
   "cell_type": "code",
   "execution_count": 97,
   "id": "21a2c223-affa-43da-be8e-0bb7548412d4",
   "metadata": {},
   "outputs": [
    {
     "data": {
      "text/plain": [
       "(512, 512)"
      ]
     },
     "execution_count": 97,
     "metadata": {},
     "output_type": "execute_result"
    }
   ],
   "source": [
    "gray_img.shape"
   ]
  },
  {
   "cell_type": "code",
   "execution_count": 98,
   "id": "fb0f4261-9373-4ccf-babf-2fb07d489844",
   "metadata": {},
   "outputs": [],
   "source": [
    "gr_img = deepcopy(gray_img) # agar tidak mempengaruhi citra awal"
   ]
  },
  {
   "cell_type": "code",
   "execution_count": 99,
   "id": "2ddd670b-4869-45e4-982a-9f39896fe3c4",
   "metadata": {},
   "outputs": [
    {
     "data": {
      "text/plain": [
       "255"
      ]
     },
     "execution_count": 99,
     "metadata": {},
     "output_type": "execute_result"
    }
   ],
   "source": [
    "gr_img.max()"
   ]
  },
  {
   "cell_type": "code",
   "execution_count": 100,
   "id": "dfb38bbf-0a04-4a6d-a98b-3b68a8686120",
   "metadata": {},
   "outputs": [],
   "source": [
    "threshold = 127\n",
    "binaries = (gr_img > threshold) * 255"
   ]
  },
  {
   "cell_type": "code",
   "execution_count": 101,
   "id": "7f9f955d-11f0-4d57-80c0-c6d27fc1fdf7",
   "metadata": {},
   "outputs": [
    {
     "data": {
      "text/plain": [
       "<matplotlib.image.AxesImage at 0x7fb6b6bee980>"
      ]
     },
     "execution_count": 101,
     "metadata": {},
     "output_type": "execute_result"
    },
    {
     "data": {
      "image/png": "[encoded data removed]",
      "text/plain": [
       "<Figure size 640x480 with 1 Axes>"
      ]
     },
     "metadata": {},
     "output_type": "display_data"
    }
   ],
   "source": [
    "plt.imshow(binaries, 'gray')"
   ]
  },
  {
   "cell_type": "markdown",
   "id": "ab5c1a40-c78c-4fbd-b50f-9578164d1cd8",
   "metadata": {},
   "source": [
    "## Dilation"
   ]
  },
  {
   "cell_type": "code",
   "execution_count": 102,
   "id": "4fa0b58b-ed1b-4e88-8e9a-2a4c9748227f",
   "metadata": {},
   "outputs": [],
   "source": [
    "bi_copy = deepcopy(binaries) # agar tidak mempengaruhi citra awal"
   ]
  },
  {
   "cell_type": "code",
   "execution_count": 103,
   "id": "86abecb3-ada9-4d67-a76c-ab26242f5177",
   "metadata": {},
   "outputs": [],
   "source": [
    "rect_kernel = generate_SE('rect', (15,15))"
   ]
  },
  {
   "cell_type": "code",
   "execution_count": 104,
   "id": "ae1932e8-f0aa-43f9-afdc-8b1150718e5b",
   "metadata": {},
   "outputs": [],
   "source": [
    "dilation = dilate(bi_copy, rect_kernel)"
   ]
  },
  {
   "cell_type": "code",
   "execution_count": 105,
   "id": "2cab840a-2221-4320-8508-82f5eef4888e",
   "metadata": {},
   "outputs": [
    {
     "data": {
      "text/plain": [
       "<matplotlib.image.AxesImage at 0x7fb6b6c6dba0>"
      ]
     },
     "execution_count": 105,
     "metadata": {},
     "output_type": "execute_result"
    },
    {
     "data": {
      "image/png": "[encoded data removed]",
      "text/plain": [
       "<Figure size 640x480 with 1 Axes>"
      ]
     },
     "metadata": {},
     "output_type": "display_data"
    }
   ],
   "source": [
    "plt.imshow(dilation, 'gray')"
   ]
  },
  {
   "cell_type": "code",
   "execution_count": 106,
   "id": "af8cc591-77f1-4360-a301-acbf52a14cdd",
   "metadata": {},
   "outputs": [],
   "source": [
    "erosion = erode(bi_copy, rect_kernel)"
   ]
  },
  {
   "cell_type": "code",
   "execution_count": 107,
   "id": "831062c6-6909-4d74-9031-ceff4c4bb6fb",
   "metadata": {},
   "outputs": [
    {
     "data": {
      "text/plain": [
       "<matplotlib.image.AxesImage at 0x7fb6b7932710>"
      ]
     },
     "execution_count": 107,
     "metadata": {},
     "output_type": "execute_result"
    },
    {
     "data": {
      "image/png": "[encoded data removed]",
      "text/plain": [
       "<Figure size 640x480 with 1 Axes>"
      ]
     },
     "metadata": {},
     "output_type": "display_data"
    }
   ],
   "source": [
    "plt.imshow(erosion, 'gray')"
   ]
  },
  {
   "cell_type": "code",
   "execution_count": null,
   "id": "e6a16121-874d-4b95-a21c-7c1c81a175f2",
   "metadata": {},
   "outputs": [],
   "source": []
  }
 ],
 "metadata": {
  "kernelspec": {
   "display_name": "class-projects--GTbbvYy",
   "language": "python",
   "name": "class-projects--gtbbvyy"
  },
  "language_info": {
   "codemirror_mode": {
    "name": "ipython",
    "version": 3
   },
   "file_extension": ".py",
   "mimetype": "text/x-python",
   "name": "python",
   "nbconvert_exporter": "python",
   "pygments_lexer": "ipython3",
   "version": "3.10.7"
  }
 },
 "nbformat": 4,
 "nbformat_minor": 5
}
